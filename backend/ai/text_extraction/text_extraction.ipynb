{
 "cells": [
  {
   "cell_type": "code",
   "execution_count": 2,
   "metadata": {},
   "outputs": [],
   "source": [
    "import ocr\n",
    "from tqdm import tqdm\n",
    "import re\n",
    "import pandas as pd"
   ]
  },
  {
   "cell_type": "code",
   "execution_count": 3,
   "metadata": {},
   "outputs": [
    {
     "data": {
      "text/plain": [
       "234"
      ]
     },
     "execution_count": 3,
     "metadata": {},
     "output_type": "execute_result"
    }
   ],
   "source": [
    "circular_df = pd.read_csv(\"../output_files/2023_2024_policy_circulars.csv\")\n",
    "len(circular_df)"
   ]
  },
  {
   "cell_type": "markdown",
   "metadata": {},
   "source": [
    "Delete rows where the words are found in `downloaded_png_path`"
   ]
  },
  {
   "cell_type": "code",
   "execution_count": 4,
   "metadata": {},
   "outputs": [
    {
     "name": "stdout",
     "output_type": "stream",
     "text": [
      "(189, 10)\n"
     ]
    }
   ],
   "source": [
    "mask = circular_df['title'].str.lower().apply(\n",
    "    lambda x: all(word.lower() not in re.split(r\"[ \\-_]+\", x) for word in ['vol', 'volume', 'meeting', 'Report', 'Act', 'A4', 'Publication', 'half-year', 'bullion', 'calendar', \n",
    "    'qtr', 'annual', 'quarter', 'remark', 'speech', 'letter', 'ECR', 'Analysis', 'weekly'])\n",
    ")\n",
    "circular_df = circular_df[mask]\n",
    "\n",
    "print(circular_df.shape)"
   ]
  },
  {
   "cell_type": "code",
   "execution_count": 5,
   "metadata": {},
   "outputs": [
    {
     "data": {
      "text/html": [
       "<div>\n",
       "<style scoped>\n",
       "    .dataframe tbody tr th:only-of-type {\n",
       "        vertical-align: middle;\n",
       "    }\n",
       "\n",
       "    .dataframe tbody tr th {\n",
       "        vertical-align: top;\n",
       "    }\n",
       "\n",
       "    .dataframe thead th {\n",
       "        text-align: right;\n",
       "    }\n",
       "</style>\n",
       "<table border=\"1\" class=\"dataframe\">\n",
       "  <thead>\n",
       "    <tr style=\"text-align: right;\">\n",
       "      <th></th>\n",
       "      <th>_id</th>\n",
       "      <th>pageNumber</th>\n",
       "      <th>reference</th>\n",
       "      <th>document</th>\n",
       "      <th>title</th>\n",
       "      <th>timestamp</th>\n",
       "      <th>__v</th>\n",
       "      <th>year</th>\n",
       "      <th>downloaded_pdf_path</th>\n",
       "      <th>downloaded_png_path</th>\n",
       "    </tr>\n",
       "  </thead>\n",
       "  <tbody>\n",
       "    <tr>\n",
       "      <th>0</th>\n",
       "      <td>6623ba0dfaf3e17e8b6016d6</td>\n",
       "      <td>1</td>\n",
       "      <td>TED/DIR/CON/GOM/001/073</td>\n",
       "      <td>https://cbn.gov.ng/Out/2024/CCD/Sales of FX to...</td>\n",
       "      <td>Sales of FX to BDCs to Meet Retail Market Dema...</td>\n",
       "      <td>2024-04-08</td>\n",
       "      <td>0</td>\n",
       "      <td>2024</td>\n",
       "      <td>downloaded_pdfs/Sales of FX to BDCs to Meet Re...</td>\n",
       "      <td>png_files/Sales of FX to BDCs to Meet Retail M...</td>\n",
       "    </tr>\n",
       "    <tr>\n",
       "      <th>2</th>\n",
       "      <td>6623ba0dfaf3e17e8b6016d8</td>\n",
       "      <td>1</td>\n",
       "      <td>FPR/DIR/PUB/CIR/002/009</td>\n",
       "      <td>https://cbn.gov.ng/Out/2024/CCD/Recapitalizati...</td>\n",
       "      <td>Review of Minimum Capital Requirements for Com...</td>\n",
       "      <td>2024-03-28</td>\n",
       "      <td>0</td>\n",
       "      <td>2024</td>\n",
       "      <td>downloaded_pdfs/Recapitalization_MARCH_2024.pdf</td>\n",
       "      <td>NaN</td>\n",
       "    </tr>\n",
       "  </tbody>\n",
       "</table>\n",
       "</div>"
      ],
      "text/plain": [
       "                        _id  pageNumber                reference  \\\n",
       "0  6623ba0dfaf3e17e8b6016d6           1  TED/DIR/CON/GOM/001/073   \n",
       "2  6623ba0dfaf3e17e8b6016d8           1  FPR/DIR/PUB/CIR/002/009   \n",
       "\n",
       "                                            document  \\\n",
       "0  https://cbn.gov.ng/Out/2024/CCD/Sales of FX to...   \n",
       "2  https://cbn.gov.ng/Out/2024/CCD/Recapitalizati...   \n",
       "\n",
       "                                               title   timestamp  __v  year  \\\n",
       "0  Sales of FX to BDCs to Meet Retail Market Dema...  2024-04-08    0  2024   \n",
       "2  Review of Minimum Capital Requirements for Com...  2024-03-28    0  2024   \n",
       "\n",
       "                                 downloaded_pdf_path  \\\n",
       "0  downloaded_pdfs/Sales of FX to BDCs to Meet Re...   \n",
       "2    downloaded_pdfs/Recapitalization_MARCH_2024.pdf   \n",
       "\n",
       "                                 downloaded_png_path  \n",
       "0  png_files/Sales of FX to BDCs to Meet Retail M...  \n",
       "2                                                NaN  "
      ]
     },
     "execution_count": 5,
     "metadata": {},
     "output_type": "execute_result"
    }
   ],
   "source": [
    "circular_df.head(2)"
   ]
  },
  {
   "cell_type": "code",
   "execution_count": 6,
   "metadata": {},
   "outputs": [
    {
     "name": "stdout",
     "output_type": "stream",
     "text": [
      "76\n"
     ]
    }
   ],
   "source": [
    "## use rows from October 2023, representing Cardoso's tenure\n",
    "\n",
    "circular_df['timestamp'] = pd.to_datetime(circular_df['timestamp'], format='%Y-%m-%d')\n",
    "\n",
    "# Filter rows for October 2023\n",
    "circular_df = circular_df[circular_df['timestamp'] >= pd.Timestamp(year=2023, month=10, day=1)]\n",
    "\n",
    "# Print the resulting DataFrame\n",
    "print(len(circular_df))"
   ]
  },
  {
   "cell_type": "code",
   "execution_count": 7,
   "metadata": {},
   "outputs": [
    {
     "data": {
      "text/plain": [
       "_id                    0\n",
       "pageNumber             0\n",
       "reference              0\n",
       "document               0\n",
       "title                  0\n",
       "timestamp              0\n",
       "__v                    0\n",
       "year                   0\n",
       "downloaded_pdf_path    0\n",
       "downloaded_png_path    8\n",
       "dtype: int64"
      ]
     },
     "execution_count": 7,
     "metadata": {},
     "output_type": "execute_result"
    }
   ],
   "source": [
    "circular_df.isna().sum()"
   ]
  },
  {
   "cell_type": "code",
   "execution_count": 8,
   "metadata": {},
   "outputs": [
    {
     "data": {
      "text/plain": [
       "68"
      ]
     },
     "execution_count": 8,
     "metadata": {},
     "output_type": "execute_result"
    }
   ],
   "source": [
    "circular_df = circular_df.dropna()\n",
    "len(circular_df)"
   ]
  },
  {
   "cell_type": "code",
   "execution_count": 10,
   "metadata": {},
   "outputs": [
    {
     "name": "stderr",
     "output_type": "stream",
     "text": [
      "100%|██████████| 68/68 [25:03<00:00, 22.11s/it]\n"
     ]
    }
   ],
   "source": [
    "recognize = ocr.TextRecognizer()\n",
    "\n",
    "def process_image(path):\n",
    "    try:\n",
    "        return recognize.recognize_img(path)\n",
    "    except Exception as e:\n",
    "        print(f\"Error processing image {path}: {str(e)}\")\n",
    "        return None\n",
    "\n",
    "# apply OCR to each image in the df, using parallel processing if necessary\n",
    "extracted_texts = []\n",
    "for img_path in tqdm(circular_df[\"downloaded_png_path\"]):\n",
    "    text = process_image(\"../output_files/\"+img_path)\n",
    "    extracted_texts.append(text)\n"
   ]
  },
  {
   "cell_type": "code",
   "execution_count": 12,
   "metadata": {},
   "outputs": [],
   "source": [
    "circular_df[\"text\"] = extracted_texts"
   ]
  },
  {
   "cell_type": "code",
   "execution_count": 13,
   "metadata": {},
   "outputs": [
    {
     "data": {
      "text/html": [
       "<div>\n",
       "<style scoped>\n",
       "    .dataframe tbody tr th:only-of-type {\n",
       "        vertical-align: middle;\n",
       "    }\n",
       "\n",
       "    .dataframe tbody tr th {\n",
       "        vertical-align: top;\n",
       "    }\n",
       "\n",
       "    .dataframe thead th {\n",
       "        text-align: right;\n",
       "    }\n",
       "</style>\n",
       "<table border=\"1\" class=\"dataframe\">\n",
       "  <thead>\n",
       "    <tr style=\"text-align: right;\">\n",
       "      <th></th>\n",
       "      <th>_id</th>\n",
       "      <th>pageNumber</th>\n",
       "      <th>reference</th>\n",
       "      <th>document</th>\n",
       "      <th>title</th>\n",
       "      <th>timestamp</th>\n",
       "      <th>__v</th>\n",
       "      <th>year</th>\n",
       "      <th>downloaded_pdf_path</th>\n",
       "      <th>downloaded_png_path</th>\n",
       "      <th>text</th>\n",
       "    </tr>\n",
       "  </thead>\n",
       "  <tbody>\n",
       "    <tr>\n",
       "      <th>0</th>\n",
       "      <td>6623ba0dfaf3e17e8b6016d6</td>\n",
       "      <td>1</td>\n",
       "      <td>TED/DIR/CON/GOM/001/073</td>\n",
       "      <td>https://cbn.gov.ng/Out/2024/CCD/Sales of FX to...</td>\n",
       "      <td>Sales of FX to BDCs to Meet Retail Market Dema...</td>\n",
       "      <td>2024-04-08</td>\n",
       "      <td>0</td>\n",
       "      <td>2024</td>\n",
       "      <td>downloaded_pdfs/Sales of FX to BDCs to Meet Re...</td>\n",
       "      <td>png_files/Sales of FX to BDCs to Meet Retail M...</td>\n",
       "      <td>{Internal server error: , (1, 'Image too large...</td>\n",
       "    </tr>\n",
       "    <tr>\n",
       "      <th>3</th>\n",
       "      <td>6623ba0dfaf3e17e8b6016dd</td>\n",
       "      <td>1</td>\n",
       "      <td>CCD/FAQ/01/16-03-2024</td>\n",
       "      <td>https://cbn.gov.ng/Out/2024/CCD/FAQs for ferti...</td>\n",
       "      <td>Partnership to Tackle Food Inflation: Fertili...</td>\n",
       "      <td>2024-03-16</td>\n",
       "      <td>0</td>\n",
       "      <td>2024</td>\n",
       "      <td>downloaded_pdfs/FAQs for fertilisers02.pdf</td>\n",
       "      <td>png_files/FAQs for fertilisers02.png</td>\n",
       "      <td>PARTNERSHIP TO TACKLE FOOD INFLATION:\\nFERTILI...</td>\n",
       "    </tr>\n",
       "    <tr>\n",
       "      <th>4</th>\n",
       "      <td>6623ba0dfaf3e17e8b6016de</td>\n",
       "      <td>1</td>\n",
       "      <td>BSD/DIR/PUB/LAB/017/003</td>\n",
       "      <td>https://cbn.gov.ng/Out/2024/CCD/RE IMPACT OF R...</td>\n",
       "      <td>Re: Impact of Recent Policy Reforms-Prudential...</td>\n",
       "      <td>2024-03-14</td>\n",
       "      <td>0</td>\n",
       "      <td>2024</td>\n",
       "      <td>downloaded_pdfs/RE IMPACT OF RECENT POLICY REF...</td>\n",
       "      <td>png_files/RE IMPACT OF RECENT POLICY REFORMS-P...</td>\n",
       "      <td>Central Bank of Nigeria\\n\\nBanking Supervision...</td>\n",
       "    </tr>\n",
       "    <tr>\n",
       "      <th>5</th>\n",
       "      <td>6623ba0dfaf3e17e8b6016df</td>\n",
       "      <td>1</td>\n",
       "      <td>CCD\\SP\\GEN\\01\\14-03-2024</td>\n",
       "      <td>https://cbn.gov.ng/Out/2024/CCD/Governor's Rem...</td>\n",
       "      <td>Handover of Fertilizer to the Ministry of Agri...</td>\n",
       "      <td>2024-03-14</td>\n",
       "      <td>0</td>\n",
       "      <td>2024</td>\n",
       "      <td>downloaded_pdfs/Governor's Remarks At Handover...</td>\n",
       "      <td>png_files/Governor's Remarks At Handover of Fe...</td>\n",
       "      <td>HANDOVER OF FERTILIZER TO THE MINISTRY OF AGRI...</td>\n",
       "    </tr>\n",
       "    <tr>\n",
       "      <th>6</th>\n",
       "      <td>6623ba0dfaf3e17e8b6016e0</td>\n",
       "      <td>1</td>\n",
       "      <td>FMD/DIR/PUB/CIR/001/010</td>\n",
       "      <td>https://cbn.gov.ng/Out/2024/FMD/Superceded Cir...</td>\n",
       "      <td>Superseded Circulars/Guidelines (REVIEWED)</td>\n",
       "      <td>2024-03-12</td>\n",
       "      <td>0</td>\n",
       "      <td>2024</td>\n",
       "      <td>downloaded_pdfs/Superceded Circulars and Guide...</td>\n",
       "      <td>png_files/Superceded Circulars and Guidelines ...</td>\n",
       "      <td>Central Bank of Nigeria\\n\\nFinancial Markets D...</td>\n",
       "    </tr>\n",
       "  </tbody>\n",
       "</table>\n",
       "</div>"
      ],
      "text/plain": [
       "                        _id  pageNumber                 reference  \\\n",
       "0  6623ba0dfaf3e17e8b6016d6           1   TED/DIR/CON/GOM/001/073   \n",
       "3  6623ba0dfaf3e17e8b6016dd           1     CCD/FAQ/01/16-03-2024   \n",
       "4  6623ba0dfaf3e17e8b6016de           1   BSD/DIR/PUB/LAB/017/003   \n",
       "5  6623ba0dfaf3e17e8b6016df           1  CCD\\SP\\GEN\\01\\14-03-2024   \n",
       "6  6623ba0dfaf3e17e8b6016e0           1   FMD/DIR/PUB/CIR/001/010   \n",
       "\n",
       "                                            document  \\\n",
       "0  https://cbn.gov.ng/Out/2024/CCD/Sales of FX to...   \n",
       "3  https://cbn.gov.ng/Out/2024/CCD/FAQs for ferti...   \n",
       "4  https://cbn.gov.ng/Out/2024/CCD/RE IMPACT OF R...   \n",
       "5  https://cbn.gov.ng/Out/2024/CCD/Governor's Rem...   \n",
       "6  https://cbn.gov.ng/Out/2024/FMD/Superceded Cir...   \n",
       "\n",
       "                                               title  timestamp  __v  year  \\\n",
       "0  Sales of FX to BDCs to Meet Retail Market Dema... 2024-04-08    0  2024   \n",
       "3   Partnership to Tackle Food Inflation: Fertili... 2024-03-16    0  2024   \n",
       "4  Re: Impact of Recent Policy Reforms-Prudential... 2024-03-14    0  2024   \n",
       "5  Handover of Fertilizer to the Ministry of Agri... 2024-03-14    0  2024   \n",
       "6         Superseded Circulars/Guidelines (REVIEWED) 2024-03-12    0  2024   \n",
       "\n",
       "                                 downloaded_pdf_path  \\\n",
       "0  downloaded_pdfs/Sales of FX to BDCs to Meet Re...   \n",
       "3         downloaded_pdfs/FAQs for fertilisers02.pdf   \n",
       "4  downloaded_pdfs/RE IMPACT OF RECENT POLICY REF...   \n",
       "5  downloaded_pdfs/Governor's Remarks At Handover...   \n",
       "6  downloaded_pdfs/Superceded Circulars and Guide...   \n",
       "\n",
       "                                 downloaded_png_path  \\\n",
       "0  png_files/Sales of FX to BDCs to Meet Retail M...   \n",
       "3               png_files/FAQs for fertilisers02.png   \n",
       "4  png_files/RE IMPACT OF RECENT POLICY REFORMS-P...   \n",
       "5  png_files/Governor's Remarks At Handover of Fe...   \n",
       "6  png_files/Superceded Circulars and Guidelines ...   \n",
       "\n",
       "                                                text  \n",
       "0  {Internal server error: , (1, 'Image too large...  \n",
       "3  PARTNERSHIP TO TACKLE FOOD INFLATION:\\nFERTILI...  \n",
       "4  Central Bank of Nigeria\\n\\nBanking Supervision...  \n",
       "5  HANDOVER OF FERTILIZER TO THE MINISTRY OF AGRI...  \n",
       "6  Central Bank of Nigeria\\n\\nFinancial Markets D...  "
      ]
     },
     "execution_count": 13,
     "metadata": {},
     "output_type": "execute_result"
    }
   ],
   "source": [
    "circular_df.head()"
   ]
  },
  {
   "cell_type": "code",
   "execution_count": 17,
   "metadata": {},
   "outputs": [],
   "source": [
    "circular_df[\"text\"] = circular_df[\"text\"].astype(str)"
   ]
  },
  {
   "cell_type": "code",
   "execution_count": 18,
   "metadata": {},
   "outputs": [
    {
     "data": {
      "text/plain": [
       "67"
      ]
     },
     "execution_count": 18,
     "metadata": {},
     "output_type": "execute_result"
    }
   ],
   "source": [
    "filtered_cicular_df = circular_df[circular_df[\"text\"]!=\"{'Internal server error: ', TesseractError(1, 'Image too large: (1654, 84205) Error during processing.')}\"]\n",
    "len(filtered_cicular_df)"
   ]
  },
  {
   "cell_type": "code",
   "execution_count": 20,
   "metadata": {},
   "outputs": [
    {
     "name": "stderr",
     "output_type": "stream",
     "text": [
      "/var/folders/2x/3p0r8mnx6s7f7rwwg4fjmv3c0000gn/T/ipykernel_27266/2533319880.py:1: SettingWithCopyWarning: \n",
      "A value is trying to be set on a copy of a slice from a DataFrame.\n",
      "Try using .loc[row_indexer,col_indexer] = value instead\n",
      "\n",
      "See the caveats in the documentation: https://pandas.pydata.org/pandas-docs/stable/user_guide/indexing.html#returning-a-view-versus-a-copy\n",
      "  filtered_cicular_df['timestamp'] = pd.to_datetime(filtered_cicular_df['timestamp'])\n",
      "/var/folders/2x/3p0r8mnx6s7f7rwwg4fjmv3c0000gn/T/ipykernel_27266/2533319880.py:2: SettingWithCopyWarning: \n",
      "A value is trying to be set on a copy of a slice from a DataFrame.\n",
      "Try using .loc[row_indexer,col_indexer] = value instead\n",
      "\n",
      "See the caveats in the documentation: https://pandas.pydata.org/pandas-docs/stable/user_guide/indexing.html#returning-a-view-versus-a-copy\n",
      "  filtered_cicular_df['timestamp'] = filtered_cicular_df['timestamp'].astype(str)\n"
     ]
    }
   ],
   "source": [
    "filtered_cicular_df['timestamp'] = pd.to_datetime(filtered_cicular_df['timestamp'])\n",
    "filtered_cicular_df['timestamp'] = filtered_cicular_df['timestamp'].astype(str)"
   ]
  },
  {
   "cell_type": "code",
   "execution_count": 22,
   "metadata": {},
   "outputs": [],
   "source": [
    "filtered_cicular_df.to_parquet(\"../output_files/text_extracted_circular_df_oct2023toApril2024.parquet\", index=False)"
   ]
  },
  {
   "cell_type": "code",
   "execution_count": null,
   "metadata": {},
   "outputs": [],
   "source": []
  }
 ],
 "metadata": {
  "kernelspec": {
   "display_name": "Python 3.10.9 ('ml-exp-env')",
   "language": "python",
   "name": "python3"
  },
  "language_info": {
   "codemirror_mode": {
    "name": "ipython",
    "version": 3
   },
   "file_extension": ".py",
   "mimetype": "text/x-python",
   "name": "python",
   "nbconvert_exporter": "python",
   "pygments_lexer": "ipython3",
   "version": "3.10.9"
  },
  "orig_nbformat": 4,
  "vscode": {
   "interpreter": {
    "hash": "3f1d252ef46601678906dbdce4acb4f440340dbfaa288531fe6c2b835d5664f6"
   }
  }
 },
 "nbformat": 4,
 "nbformat_minor": 2
}
