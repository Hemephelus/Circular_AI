{
 "cells": [
  {
   "cell_type": "code",
   "execution_count": 2,
   "metadata": {},
   "outputs": [],
   "source": [
    "# !pip install pinecone-client"
   ]
  },
  {
   "cell_type": "code",
   "execution_count": 47,
   "metadata": {},
   "outputs": [],
   "source": [
    "# from embedding import GeminiEmbeddingFunction\n",
    "import pandas as pd\n",
    "\n",
    "import os\n",
    "import io\n",
    "import re\n",
    "import time\n",
    "import glob\n",
    "from pinecone import Pinecone, ServerlessSpec\n",
    "from pinecone_embeddings import GeminiEmbeddings\n",
    "from config.env_variable import EnvVariable\n",
    "import google.generativeai as genai\n",
    "\n",
    "API_KEY=EnvVariable.GEMINI_API_KEY.value\n",
    "\n",
    "genai.configure(api_key=API_KEY)"
   ]
  },
  {
   "cell_type": "code",
   "execution_count": 4,
   "metadata": {},
   "outputs": [
    {
     "data": {
      "text/html": [
       "<div>\n",
       "<style scoped>\n",
       "    .dataframe tbody tr th:only-of-type {\n",
       "        vertical-align: middle;\n",
       "    }\n",
       "\n",
       "    .dataframe tbody tr th {\n",
       "        vertical-align: top;\n",
       "    }\n",
       "\n",
       "    .dataframe thead th {\n",
       "        text-align: right;\n",
       "    }\n",
       "</style>\n",
       "<table border=\"1\" class=\"dataframe\">\n",
       "  <thead>\n",
       "    <tr style=\"text-align: right;\">\n",
       "      <th></th>\n",
       "      <th>_id</th>\n",
       "      <th>pageNumber</th>\n",
       "      <th>reference</th>\n",
       "      <th>document</th>\n",
       "      <th>title</th>\n",
       "      <th>timestamp</th>\n",
       "      <th>__v</th>\n",
       "      <th>year</th>\n",
       "      <th>downloaded_pdf_path</th>\n",
       "      <th>downloaded_png_path</th>\n",
       "      <th>text</th>\n",
       "    </tr>\n",
       "  </thead>\n",
       "  <tbody>\n",
       "    <tr>\n",
       "      <th>0</th>\n",
       "      <td>6623ba0dfaf3e17e8b6016dd</td>\n",
       "      <td>1</td>\n",
       "      <td>CCD/FAQ/01/16-03-2024</td>\n",
       "      <td>https://cbn.gov.ng/Out/2024/CCD/FAQs for ferti...</td>\n",
       "      <td>Partnership to Tackle Food Inflation: Fertili...</td>\n",
       "      <td>2024-03-16</td>\n",
       "      <td>0</td>\n",
       "      <td>2024</td>\n",
       "      <td>downloaded_pdfs/FAQs for fertilisers02.pdf</td>\n",
       "      <td>png_files/FAQs for fertilisers02.png</td>\n",
       "      <td>PARTNERSHIP TO TACKLE FOOD INFLATION:\\nFERTILI...</td>\n",
       "    </tr>\n",
       "    <tr>\n",
       "      <th>1</th>\n",
       "      <td>6623ba0dfaf3e17e8b6016de</td>\n",
       "      <td>1</td>\n",
       "      <td>BSD/DIR/PUB/LAB/017/003</td>\n",
       "      <td>https://cbn.gov.ng/Out/2024/CCD/RE IMPACT OF R...</td>\n",
       "      <td>Re: Impact of Recent Policy Reforms-Prudential...</td>\n",
       "      <td>2024-03-14</td>\n",
       "      <td>0</td>\n",
       "      <td>2024</td>\n",
       "      <td>downloaded_pdfs/RE IMPACT OF RECENT POLICY REF...</td>\n",
       "      <td>png_files/RE IMPACT OF RECENT POLICY REFORMS-P...</td>\n",
       "      <td>Central Bank of Nigeria\\n\\nBanking Supervision...</td>\n",
       "    </tr>\n",
       "    <tr>\n",
       "      <th>2</th>\n",
       "      <td>6623ba0dfaf3e17e8b6016df</td>\n",
       "      <td>1</td>\n",
       "      <td>CCD\\SP\\GEN\\01\\14-03-2024</td>\n",
       "      <td>https://cbn.gov.ng/Out/2024/CCD/Governor's Rem...</td>\n",
       "      <td>Handover of Fertilizer to the Ministry of Agri...</td>\n",
       "      <td>2024-03-14</td>\n",
       "      <td>0</td>\n",
       "      <td>2024</td>\n",
       "      <td>downloaded_pdfs/Governor's Remarks At Handover...</td>\n",
       "      <td>png_files/Governor's Remarks At Handover of Fe...</td>\n",
       "      <td>HANDOVER OF FERTILIZER TO THE MINISTRY OF AGRI...</td>\n",
       "    </tr>\n",
       "    <tr>\n",
       "      <th>3</th>\n",
       "      <td>6623ba0dfaf3e17e8b6016e0</td>\n",
       "      <td>1</td>\n",
       "      <td>FMD/DIR/PUB/CIR/001/010</td>\n",
       "      <td>https://cbn.gov.ng/Out/2024/FMD/Superceded Cir...</td>\n",
       "      <td>Superseded Circulars/Guidelines (REVIEWED)</td>\n",
       "      <td>2024-03-12</td>\n",
       "      <td>0</td>\n",
       "      <td>2024</td>\n",
       "      <td>downloaded_pdfs/Superceded Circulars and Guide...</td>\n",
       "      <td>png_files/Superceded Circulars and Guidelines ...</td>\n",
       "      <td>Central Bank of Nigeria\\n\\nFinancial Markets D...</td>\n",
       "    </tr>\n",
       "    <tr>\n",
       "      <th>4</th>\n",
       "      <td>6623ba0dfaf3e17e8b6016e6</td>\n",
       "      <td>1</td>\n",
       "      <td>OFI/DOA/CON/BDC/006/247</td>\n",
       "      <td>https://cbn.gov.ng/Out/2024/CCD/CBN Press Rele...</td>\n",
       "      <td>CBN Revokes Operational Licenses of 4,173 BDCs</td>\n",
       "      <td>2024-03-01</td>\n",
       "      <td>0</td>\n",
       "      <td>2024</td>\n",
       "      <td>downloaded_pdfs/CBN Press Release (BDCs Revoca...</td>\n",
       "      <td>png_files/CBN Press Release (BDCs Revocation) ...</td>\n",
       "      <td>```www.cbn.gov.ng\\n\\nCentral Bank of Nigeria\\n...</td>\n",
       "    </tr>\n",
       "  </tbody>\n",
       "</table>\n",
       "</div>"
      ],
      "text/plain": [
       "                        _id  pageNumber                 reference  \\\n",
       "0  6623ba0dfaf3e17e8b6016dd           1     CCD/FAQ/01/16-03-2024   \n",
       "1  6623ba0dfaf3e17e8b6016de           1   BSD/DIR/PUB/LAB/017/003   \n",
       "2  6623ba0dfaf3e17e8b6016df           1  CCD\\SP\\GEN\\01\\14-03-2024   \n",
       "3  6623ba0dfaf3e17e8b6016e0           1   FMD/DIR/PUB/CIR/001/010   \n",
       "4  6623ba0dfaf3e17e8b6016e6           1   OFI/DOA/CON/BDC/006/247   \n",
       "\n",
       "                                            document  \\\n",
       "0  https://cbn.gov.ng/Out/2024/CCD/FAQs for ferti...   \n",
       "1  https://cbn.gov.ng/Out/2024/CCD/RE IMPACT OF R...   \n",
       "2  https://cbn.gov.ng/Out/2024/CCD/Governor's Rem...   \n",
       "3  https://cbn.gov.ng/Out/2024/FMD/Superceded Cir...   \n",
       "4  https://cbn.gov.ng/Out/2024/CCD/CBN Press Rele...   \n",
       "\n",
       "                                               title   timestamp  __v  year  \\\n",
       "0   Partnership to Tackle Food Inflation: Fertili...  2024-03-16    0  2024   \n",
       "1  Re: Impact of Recent Policy Reforms-Prudential...  2024-03-14    0  2024   \n",
       "2  Handover of Fertilizer to the Ministry of Agri...  2024-03-14    0  2024   \n",
       "3         Superseded Circulars/Guidelines (REVIEWED)  2024-03-12    0  2024   \n",
       "4     CBN Revokes Operational Licenses of 4,173 BDCs  2024-03-01    0  2024   \n",
       "\n",
       "                                 downloaded_pdf_path  \\\n",
       "0         downloaded_pdfs/FAQs for fertilisers02.pdf   \n",
       "1  downloaded_pdfs/RE IMPACT OF RECENT POLICY REF...   \n",
       "2  downloaded_pdfs/Governor's Remarks At Handover...   \n",
       "3  downloaded_pdfs/Superceded Circulars and Guide...   \n",
       "4  downloaded_pdfs/CBN Press Release (BDCs Revoca...   \n",
       "\n",
       "                                 downloaded_png_path  \\\n",
       "0               png_files/FAQs for fertilisers02.png   \n",
       "1  png_files/RE IMPACT OF RECENT POLICY REFORMS-P...   \n",
       "2  png_files/Governor's Remarks At Handover of Fe...   \n",
       "3  png_files/Superceded Circulars and Guidelines ...   \n",
       "4  png_files/CBN Press Release (BDCs Revocation) ...   \n",
       "\n",
       "                                                text  \n",
       "0  PARTNERSHIP TO TACKLE FOOD INFLATION:\\nFERTILI...  \n",
       "1  Central Bank of Nigeria\\n\\nBanking Supervision...  \n",
       "2  HANDOVER OF FERTILIZER TO THE MINISTRY OF AGRI...  \n",
       "3  Central Bank of Nigeria\\n\\nFinancial Markets D...  \n",
       "4  ```www.cbn.gov.ng\\n\\nCentral Bank of Nigeria\\n...  "
      ]
     },
     "execution_count": 4,
     "metadata": {},
     "output_type": "execute_result"
    }
   ],
   "source": [
    "df = pd.read_parquet(\"../output_files/text_extracted_circular_df_oct2023toApril2024.parquet\")\n",
    "df.head()"
   ]
  },
  {
   "cell_type": "code",
   "execution_count": 5,
   "metadata": {},
   "outputs": [],
   "source": [
    "PINECONE_KEY = EnvVariable.PINECONE_KEY.value\n",
    "AICX_SEARCH_INDEX = EnvVariable.PINECONE_INDEX.value\n",
    "recreate_index = True"
   ]
  },
  {
   "cell_type": "code",
   "execution_count": 6,
   "metadata": {},
   "outputs": [],
   "source": [
    "# PINECONE OBJECT\n",
    "pc = Pinecone(api_key=PINECONE_KEY)"
   ]
  },
  {
   "cell_type": "code",
   "execution_count": 7,
   "metadata": {},
   "outputs": [
    {
     "name": "stdout",
     "output_type": "stream",
     "text": [
      "INDEX NAME: {AICX_SEARCH_INDEX} ALREADY EXISTS\n"
     ]
    },
    {
     "data": {
      "text/plain": [
       "{'dimension': 768,\n",
       " 'index_fullness': 0.0,\n",
       " 'namespaces': {},\n",
       " 'total_vector_count': 0}"
      ]
     },
     "execution_count": 7,
     "metadata": {},
     "output_type": "execute_result"
    }
   ],
   "source": [
    "cloud = os.environ.get('PINECONE_CLOUD') or 'aws'\n",
    "region = os.environ.get('PINECONE_REGION') or 'us-east-1'\n",
    "\n",
    "spec = ServerlessSpec(cloud=cloud, region=region)\n",
    "\n",
    "# CREATING AN INDEX\n",
    "if AICX_SEARCH_INDEX not in pc.list_indexes().names():\n",
    "\tpc.create_index(\n",
    "\t\tname=AICX_SEARCH_INDEX,\n",
    "\t\tdimension=768, # gemini embedding dimension\n",
    "\t\tmetric='cosine',\n",
    "\t\tspec=spec\n",
    "\t)\n",
    "\ttime.sleep(1)\n",
    "\tprint('INDEX {AICX_SEARCH_INDEX} SUCCESSFULLY CREATED')\n",
    "else:\n",
    "\tprint('INDEX NAME: {AICX_SEARCH_INDEX} ALREADY EXISTS')\n",
    "\n",
    "index = pc.Index(AICX_SEARCH_INDEX)\n",
    "index.describe_index_stats()"
   ]
  },
  {
   "cell_type": "code",
   "execution_count": 12,
   "metadata": {},
   "outputs": [
    {
     "name": "stdout",
     "output_type": "stream",
     "text": [
      "20\n"
     ]
    }
   ],
   "source": [
    "print(len(embeddings))"
   ]
  },
  {
   "cell_type": "code",
   "execution_count": null,
   "metadata": {},
   "outputs": [],
   "source": []
  },
  {
   "cell_type": "code",
   "execution_count": 17,
   "metadata": {},
   "outputs": [
    {
     "name": "stderr",
     "output_type": "stream",
     "text": [
      "67it [00:32,  2.06it/s]\n"
     ]
    }
   ],
   "source": [
    "from tqdm import tqdm\n",
    "gmd = GeminiEmbeddings()\n",
    "\n",
    "# embed the texts\n",
    "embeddings = []\n",
    "for i, row in tqdm(df.iterrows()):\n",
    "    try:\n",
    "        emb = gmd.embed(row[\"text\"])\n",
    "        embeddings.append(emb)\n",
    "    except:\n",
    "        embeddings.append(None)"
   ]
  },
  {
   "cell_type": "code",
   "execution_count": 18,
   "metadata": {},
   "outputs": [],
   "source": [
    "df[\"values\"] = embeddings"
   ]
  },
  {
   "cell_type": "code",
   "execution_count": 19,
   "metadata": {},
   "outputs": [
    {
     "data": {
      "text/plain": [
       "_id                    0\n",
       "pageNumber             0\n",
       "reference              0\n",
       "document               0\n",
       "title                  0\n",
       "timestamp              0\n",
       "__v                    0\n",
       "year                   0\n",
       "downloaded_pdf_path    0\n",
       "downloaded_png_path    0\n",
       "text                   0\n",
       "values                 1\n",
       "dtype: int64"
      ]
     },
     "execution_count": 19,
     "metadata": {},
     "output_type": "execute_result"
    }
   ],
   "source": [
    "df.isna().sum()"
   ]
  },
  {
   "cell_type": "code",
   "execution_count": 20,
   "metadata": {},
   "outputs": [],
   "source": [
    "df = df.dropna()"
   ]
  },
  {
   "cell_type": "code",
   "execution_count": 27,
   "metadata": {},
   "outputs": [],
   "source": [
    "df.to_csv(\"../output_files/embedded_texts.csv\", index=False)"
   ]
  },
  {
   "cell_type": "code",
   "execution_count": 7,
   "metadata": {},
   "outputs": [
    {
     "data": {
      "application/vnd.jupyter.widget-view+json": {
       "model_id": "3acdaf3bf06447b5b32faced8d058b99",
       "version_major": 2,
       "version_minor": 0
      },
      "text/plain": [
       "0it [00:00, ?it/s]"
      ]
     },
     "metadata": {},
     "output_type": "display_data"
    }
   ],
   "source": [
    "gmd = GeminiEmbeddings()\n",
    "prepared_data = gmd.data_prep_pinecone(df)\n",
    "assert(len(prepared_data)==len(df))"
   ]
  },
  {
   "cell_type": "code",
   "execution_count": 29,
   "metadata": {},
   "outputs": [],
   "source": [
    "def restructure_df(df, metadatas_mapping=None, field_mapping=None):\n",
    "    if metadatas_mapping is None:\n",
    "        # default mapping for metadata fields if not provided\n",
    "        metadatas_mapping = {\n",
    "            \"title\":\"title\",\n",
    "            \"source\": \"document\",\n",
    "            \"date\": \"timestamp\",\n",
    "            \"text\": \"text\"\n",
    "        }\n",
    "\n",
    "    if field_mapping is None:\n",
    "        # default dataframe field mapping if not provided. The values should exist in the provided df\n",
    "        field_mapping = {\n",
    "            \"values\": \"values\",\n",
    "            \"id\": \"_id\"\n",
    "        }\n",
    "    all_docs = []\n",
    "    for i, row in df.iterrows():\n",
    "        # Extract metadata, document, and ids data from the dataframe row\n",
    "        metadata_data = {meta_field: row[df_col] for meta_field, df_col in metadatas_mapping.items()}\n",
    "        document_data = {meta_field: row[df_col] for meta_field, df_col in field_mapping.items()}\n",
    "        # document_data = {doc_field: row[df_col] for doc_field, df_col in documents_mapping.items()}\n",
    "        # ids_data = {ids_field: row[df_col] for ids_field, df_col in ids_mapping.items()}\n",
    "        \n",
    "        # Merge all data dictionaries\n",
    "        document_data[\"metadata\"]=metadata_data\n",
    "\n",
    "        all_docs.append(document_data)\n",
    "\n",
    "    return all_docs"
   ]
  },
  {
   "cell_type": "code",
   "execution_count": 30,
   "metadata": {},
   "outputs": [
    {
     "data": {
      "text/plain": [
       "66"
      ]
     },
     "execution_count": 30,
     "metadata": {},
     "output_type": "execute_result"
    }
   ],
   "source": [
    "document = restructure_df(df)\n",
    "len(document)"
   ]
  },
  {
   "cell_type": "code",
   "execution_count": 31,
   "metadata": {},
   "outputs": [
    {
     "data": {
      "text/plain": [
       "{'upserted_count': 66}"
      ]
     },
     "execution_count": 31,
     "metadata": {},
     "output_type": "execute_result"
    }
   ],
   "source": [
    "index.upsert(\n",
    "    vectors=document,\n",
    "    namespace=\"cbn_circular_v1\"\n",
    ")"
   ]
  },
  {
   "cell_type": "code",
   "execution_count": null,
   "metadata": {},
   "outputs": [],
   "source": []
  },
  {
   "cell_type": "markdown",
   "metadata": {},
   "source": [
    "__TEST EXAMPLES__"
   ]
  },
  {
   "cell_type": "code",
   "execution_count": 33,
   "metadata": {},
   "outputs": [],
   "source": [
    "def retrieve_query(query):\n",
    "    vector = gmd.embed(query)\n",
    "    results = index.query(\n",
    "        namespace='cbn_circular_v1',\n",
    "        vector=vector,\n",
    "        top_k=2,\n",
    "        include_metadata=True\n",
    "        )['matches']\n",
    "\n",
    "    retrieved_doc = ''\n",
    "    for i, result in enumerate(results):\n",
    "        retrieved_doc = retrieved_doc + f'\\n\\n\\n SOURCE DOCUMENT {i + 1} \\n\\n'\n",
    "        retrieved_doc = retrieved_doc + ' ' + result['metadata']['text']\n",
    "    return retrieved_doc"
   ]
  },
  {
   "cell_type": "code",
   "execution_count": 45,
   "metadata": {},
   "outputs": [],
   "source": [
    "model = genai.GenerativeModel('gemini-pro')\n",
    "\n",
    "def get_response(query):\n",
    "  relevant_doc = retrieve_query(query)\n",
    "  prompt = (\"\"\"You are a helpful and informative bot that answers questions relating the policies and circular released by the Central Bank of Nigeria (CBN) betwwen October 2023 till present, April 2024. \n",
    "  You are to use the text from the reference passage included below. \\\n",
    "  Be sure to respond in a complete sentence, being comprehensive, including all relevant background information. \\\n",
    "  However, you are talking to a non-technical audience, so be sure to break down complicated concepts and \\\n",
    "  strike a friendly and converstional tone. \\\n",
    "  If the passage is irrelevant to the answer, you may ignore it.\n",
    "  QUESTION: '{query}'\n",
    "  PASSAGE: '{relevant_passage}'\n",
    "\n",
    "    ANSWER:\n",
    "  \"\"\").format(query=query, relevant_passage=relevant_doc)\n",
    "  print(prompt)\n",
    "  answer = model.generate_content(prompt)\n",
    "\n",
    "  return answer.text\n",
    "\n",
    "\n",
    "# query = \"what is the latest cbn policy on BDC?\"\n",
    "# response = get_response(query)\n",
    "# response"
   ]
  },
  {
   "cell_type": "code",
   "execution_count": 49,
   "metadata": {},
   "outputs": [
    {
     "name": "stdout",
     "output_type": "stream",
     "text": [
      "You are a helpful and informative bot that answers questions relating the policies and circular released by the Central Bank of Nigeria (CBN). \n",
      "  You are to use the text from the reference passage included below.   Be sure to respond in a complete sentence, being comprehensive, including all relevant background information.   However, you are talking to a non-technical audience, so be sure to break down complicated concepts and   strike a friendly and converstional tone.   If the passage is irrelevant to the answer, you may ignore it.\n",
      "  QUESTION: 'Why is the Nigerian exchange rate so high'\n",
      "  PASSAGE: '\n",
      "\n",
      "\n",
      " SOURCE DOCUMENT 1 \n",
      "\n",
      " ECONOMIC BRIEFING AT THE JOINT SENATE\n",
      "COMMITTEE ON FINANCE, BANKING, INSURANCE AND\n",
      "OTHER FINANCIAL INSTITUTIONS AND NATIONAL\n",
      "PLANNING\n",
      "\n",
      "A SPEECH PRESENTED BY:\n",
      "\n",
      "MR. OLAYEMI MICHAEL CARDOSO\n",
      "GOVERNOR, CENTRAL BANK OF NIGERIA\n",
      "FRIDAY, FEBRUARY 9TH, 2024\n",
      "\n",
      "Protocols\n",
      "\n",
      "- Chairman, Senate Committee on Banking, Insurance, and Other\n",
      "Financial Institutions: Distinguished Senator Mukhail\n",
      "Adetokunbo Abiru\n",
      "\n",
      "- Chairman, Senate Committee on Finance: Distinguished Senator\n",
      "Mohammed Sani Musa\n",
      "\n",
      "- Chairman, Senate Committee on National Planning:\n",
      "Distinguished Senator Abdullahi Yahaya\n",
      "\n",
      "- Distinguished Vice Chairs and Members of the Joint Senate\n",
      "Committees here today\n",
      "\n",
      "¢ Honourable Ministers\n",
      "\n",
      "- My colleagues from the Central Bank of Nigeria\n",
      "\n",
      "- Gentlemen of the Press\n",
      "\n",
      "- Ladies and Gentlemen\n",
      "\n",
      "Good morning,\n",
      "\n",
      "1. Permit me to read a prepared statement given the seriousness of\n",
      "this matter and then subsequently have a discussion on these\n",
      "topics during the Q & A session.\n",
      "\n",
      "2. I am honoured to appear before this Joint Senate Committee on\n",
      "Finance, Banking, Insurance, and Other Financial Institutions and\n",
      "National Planning to address critical concerns related to exchange\n",
      "rates and inflationary pressures in the economy.\n",
      "\n",
      "3. Indeed, this is the major topic of concern in our villages, our\n",
      "towns and our cities. The urgency of the matter is not lost on us\n",
      "at the Central Bank, and I assure you we are working tirelessly\n",
      "with colleagues across government, including with the leadership\n",
      "of this National Assembly, to bring lasting solutions.\n",
      "\n",
      "Inflation\n",
      "\n",
      "4. In December 2023, the economic landscape revealed significant\n",
      "shifts. The headline inflation stood at 28.92% in December 2023\n",
      "as against 28.20 % in November, food inflation was 33.93% as\n",
      "against 32.84% in November, while core inflation was 23.06% as\n",
      "against 22.38% in October 2023.\n",
      "\n",
      "5. Headline inflation surged to 28.92%, propelled by food shortages,\n",
      "distribution challenges, and seasonal trends. The festive season's\n",
      "consumer demand upsurge, following subdued periods due to\n",
      "energy and foreign exchange reforms, contributed to this trend,\n",
      "persisting from November through December yearly.\n",
      "\n",
      "6. The upward trend of food inflation is primarily due to supply\n",
      "shocks caused by insecurity, climate-induced factors such as\n",
      "flood and rainfall shortage in some cases, inefficient, subsistent\n",
      "and seasonal farming practices as well as importation bottle necks\n",
      "that have impacted the prices of imported food items. Anecdotal\n",
      "evidence indicates that recent exchange rate volatility has fuelled\n",
      "more foreign demands for agricultural products, especially, from\n",
      "neighbouring countries. While this presents an opportunity to\n",
      "expand and boost agricultural output, hence creating jobs in the\n",
      "sector, supply constraint exacerbated demand, instigating more\n",
      "inflationary pressures.\n",
      "\n",
      "7. Given this backdrop, the emergency committee on food security\n",
      "set up by the President has been taking a number of measures and\n",
      "we see an end in sight to the persistent rise of food inflation.\n",
      "\n",
      "8. On our side at the CBN, we have responded with significant\n",
      "monetary policy tightening to reign in inflationary pressure.\n",
      "\n",
      "9. Empirical analysis has established that money supply is one of\n",
      "the factors fuelling the current inflationary pressure. For instance,\n",
      "an analysis of the trend of the money supply spanning over 9\n",
      "months shows that M3 increased from N52.01 trillion in January\n",
      "2023 to N68.25 trillion in November 2023 representing N16.24\n",
      "trillion or 31.22 percent increase over the period. Increase in Net\n",
      "Foreign Asset (NFA) following the harmonization of exchange\n",
      "rates and the N3.22 trillion ways and means advances were the\n",
      "major factors driving the increase in money supply.\n",
      "\n",
      "10.We have also halted quasi-fiscal measures totalling over 10\n",
      "trillion naira by the Central Bank of Nigeria previously disguised\n",
      "as development finance interventions. These measures had\n",
      "\n",
      "contributed to increase in money supply thereby raising prices to\n",
      "the levels of Inflation we are grappling with today.\n",
      "\n",
      "11.The CBN's adoption of inflation-targeting framework involves\n",
      "clear communication and collaboration with fiscal authorities to\n",
      "achieve price stability, potentially leading to lowered policy rates,\n",
      "stimulating investment, and creating job opportunities.\n",
      "\n",
      "12. Our MPC meeting on the 26\" and 27\" of February is also\n",
      "expected to review the situation and take further decisions on\n",
      "these important issues.\n",
      "\n",
      "13. Distinguished Senators, Inflationary pressures are expected to\n",
      "decline in 2024 due to the CBN's inflation-targeting policy,\n",
      "aiming to rein in inflation to 21.4 percent at the medium term,\n",
      "aided by improved agricultural productivity and easing global\n",
      "supply chain pressures.\n",
      "\n",
      "Exchange Management\n",
      "\n",
      "14. The Nigerian foreign exchange market is currently facing\n",
      "increased demand pressures, causing a continuous decline in the\n",
      "value of the naira. Factors contributing to this situation include\n",
      "speculative forex demand, inadequate forex supply increased\n",
      "capital outflows, and excess liquidity.\n",
      "\n",
      "15. The shift to a market-driven exchange rate was intended to create\n",
      "a stable macroeconomic environment and discourage currency\n",
      "hoarding. However, short-term volatilities are attributed to\n",
      "arbitrage and speculation.\n",
      "\n",
      "16. To address exchange rate volatility, a comprehensive strategy\n",
      "has been initiated to enhance liquidity in the FX markets. This\n",
      "includes unifying FX market segments, clearing outstanding FX\n",
      "obligations, introducing new operational mechanisms for BDCs\n",
      "and IMTOs, enforcing the Net Open Position limit, Open Market\n",
      "Operations and adjusting the remunerable Standing Deposit\n",
      "Facility cap among others.\n",
      "\n",
      "17. Distinguished Senators, these measures, aimed at ensuring a\n",
      "more market-oriented mechanism for exchange rate\n",
      "determination, will boost foreign exchange inflows, stabilize the\n",
      "exchange rate, and minimize its pass-through to domestic\n",
      "inflation.\n",
      "\n",
      "18. Indeed, they have already started yielding early results with\n",
      "significant interest from Foreign Portfolio Investors (FPIs) that\n",
      "have already begun to supply the much-needed foreign exchange\n",
      "to the economy. For example, upwards of $1 billion in the last\n",
      "few days came in to subscribe to the Nigeria Treasury Bill auction\n",
      "of 1 trillion Naira which saw an oversubscription earlier this\n",
      "week.\n",
      "\n",
      "19. Our measures aimed at improving USD supply into the Nigerian\n",
      "economy, has significant potential in taming the volatility of the\n",
      "exchange rates. However, for these measures to be sustainable,\n",
      "we must as a country, moderate our demand for FX.\n",
      "\n",
      "20. Distinguished Senators, we must understand that the genuine\n",
      "issue impacting the exchange rate is the simultaneous decrease in\n",
      "the supply of, and increase in the demand for, US Dollars. It is\n",
      "also clear that the task of stabilizing the exchange rate, while an\n",
      "official mandate of the CBN, would necessitate efforts beyond\n",
      "the Bank itself. It will also include actions by corporates and\n",
      "\n",
      "individuals to reduce our frequent demand for the dollar for\n",
      "business and personal needs.\n",
      "\n",
      "21. I would like to underscore the importance of the ongoing\n",
      "collaboration between the Fiscal and Monetary authorities and\n",
      "particularly progress made on tackling a number of the issues\n",
      "challenging our economy today.\n",
      "\n",
      "Conclusion\n",
      "\n",
      "22. In conclusion, Distinguished Senators, we understand the\n",
      "economic costs of these developments not just for the economy,\n",
      "but also as they affect ordinary Nigerians.\n",
      "\n",
      "23. However, as I have mentioned in previous engagements, these\n",
      "costs are temporary, and our decisions will address a lot of\n",
      "fundamental issues bothering Nigeria’s macroeconomic\n",
      "landscape and ultimately put us on a surer path to prosperity.\n",
      "\n",
      "I look forward to providing more information during the Q & A\n",
      "session.\n",
      "\n",
      "Thank you.\n",
      "\n",
      "\n",
      " SOURCE DOCUMENT 2 \n",
      "\n",
      " ```CENTRAL BANK OF NIGERIA\n",
      "Corporate Head Office\n",
      "\n",
      "Central Business District\n",
      "\n",
      "P.M.B. 0187, Garki, Abuja, FCT\n",
      "\n",
      "09-61637804 TRADE AND EXCHANGE DEPARTMENT\n",
      "E-mail address: ted@cbn.gov.ng\n",
      "\n",
      "TED/FEM/FPC/GEN/001/003 January 31, 2024\n",
      "\n",
      "TO: ALL AUTHORISED DEALERS, IMTOs AND GENERAL PUBLIC\n",
      "\n",
      "REMOVAL OF ALLOWABLE LIMIT OF EXCHANGE RATE QUOTED BY THE\n",
      "INTERNATIONAL MONEY TRANSFER OPERATORS\n",
      "The circular with reference TED/FEM/PUB/FPC/001/009 dated September 13,\n",
      "\n",
      "2023 states that International Money Transfer Operators are required to quote\n",
      "\n",
      "rates within an allowable limit of -2:5% to +2.5% around the previous day's\n",
      "\n",
      "closing rate of the Nigerian Foreign Exchange Market.\n",
      "\n",
      "However, in line with the CBN’s commitment to liberalize the Nigerian Foreign\n",
      "Exchange Market, IMTOs are hereby allowed to quote exchange rates for naira\n",
      "payout to beneficiaries based on the prevailing market rates at the Nigerian\n",
      "Foreign Exchange Market on a willing seller, willing buyer basis.\n",
      "\n",
      "For the avoidance of doubt, by this circular, the cap on allowable limit of -2.5%\n",
      "to +2.5% around the previous day’s closing rate of the Nigerian Foreign\n",
      "Exchange Market is hereby removed.\n",
      "\n",
      "Therefore, this circular supersedes the circular with reference\n",
      "TED/FEM/PUB/FPC/001/009 dated September 13, 2023.\n",
      "\n",
      "Authorized Dealers, International Money, Transfer Operators and the General\n",
      "Public are hereby informed to note and comply accordingly.\n",
      "\n",
      "wwwetlor€\n",
      "\n",
      "DR. HASSAN MAHMUD\n",
      "DIRECTOR, TRADE & EXCHANGE DEPARTMENT\n",
      "```'\n",
      "\n",
      "    ANSWER:\n",
      "  \n"
     ]
    },
    {
     "data": {
      "text/plain": [
       "'I am sorry, but this reference text does not address why the Nigerian exchange rate is so high. Therefore, I am unable to answer the question provided.'"
      ]
     },
     "execution_count": 49,
     "metadata": {},
     "output_type": "execute_result"
    }
   ],
   "source": [
    "query = \"Why is the Nigerian exchange rate so high\"\n",
    "response = get_response(query)\n",
    "response"
   ]
  },
  {
   "cell_type": "code",
   "execution_count": null,
   "metadata": {},
   "outputs": [],
   "source": []
  }
 ],
 "metadata": {
  "kernelspec": {
   "display_name": "Python 3.10.9 ('ml-exp-env')",
   "language": "python",
   "name": "python3"
  },
  "language_info": {
   "codemirror_mode": {
    "name": "ipython",
    "version": 3
   },
   "file_extension": ".py",
   "mimetype": "text/x-python",
   "name": "python",
   "nbconvert_exporter": "python",
   "pygments_lexer": "ipython3",
   "version": "3.10.9"
  },
  "orig_nbformat": 4,
  "vscode": {
   "interpreter": {
    "hash": "3f1d252ef46601678906dbdce4acb4f440340dbfaa288531fe6c2b835d5664f6"
   }
  }
 },
 "nbformat": 4,
 "nbformat_minor": 2
}
